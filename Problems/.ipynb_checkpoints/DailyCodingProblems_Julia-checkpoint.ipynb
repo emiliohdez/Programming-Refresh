{
 "cells": [
  {
   "cell_type": "markdown",
   "metadata": {},
   "source": [
    "# Daily Coding Problems ft. Fernanda :)  "
   ]
  },
  {
   "cell_type": "markdown",
   "metadata": {},
   "source": [
    "***\n",
    "\n",
    "##### [Jan 6, 2020]\n",
    "#### Given a list of numbers and a number `k`, return whether any two numbers from the list add up to `k`.\n",
    "#### For example, given`[10, 15, 3, 7]` and `k` of `17`, return true since `10 + 7` is `17`.\n",
    "#### Bonus: Can you do this in one pass?"
   ]
  },
  {
   "cell_type": "code",
   "execution_count": 25,
   "metadata": {},
   "outputs": [
    {
     "data": {
      "text/plain": [
       "true"
      ]
     },
     "execution_count": 25,
     "metadata": {},
     "output_type": "execute_result"
    }
   ],
   "source": [
    "function addUpToK(numbers::Array{Int64,1}, k::Int64)::Bool\n",
    "    differences = []\n",
    "    for number in numbers\n",
    "        if number in differences\n",
    "           return true \n",
    "        else\n",
    "            push!(differences, k - number)\n",
    "        end\n",
    "    end\n",
    "    return false\n",
    "end\n",
    "\n",
    "addUpToK([11, 15, 2, 7], 17)"
   ]
  },
  {
   "cell_type": "markdown",
   "metadata": {},
   "source": [
    "***"
   ]
  },
  {
   "cell_type": "code",
   "execution_count": null,
   "metadata": {},
   "outputs": [],
   "source": []
  },
  {
   "cell_type": "code",
   "execution_count": null,
   "metadata": {},
   "outputs": [],
   "source": []
  },
  {
   "cell_type": "code",
   "execution_count": null,
   "metadata": {},
   "outputs": [],
   "source": []
  },
  {
   "cell_type": "code",
   "execution_count": null,
   "metadata": {},
   "outputs": [],
   "source": []
  }
 ],
 "metadata": {
  "kernelspec": {
   "display_name": "Julia 1.2.0",
   "language": "julia",
   "name": "julia-1.2"
  },
  "language_info": {
   "file_extension": ".jl",
   "mimetype": "application/julia",
   "name": "julia",
   "version": "1.2.0"
  }
 },
 "nbformat": 4,
 "nbformat_minor": 2
}
