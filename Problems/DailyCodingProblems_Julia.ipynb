{
 "cells": [
  {
   "cell_type": "markdown",
   "metadata": {},
   "source": [
    "# Daily Coding Problems ft. Fernanda :)  "
   ]
  },
  {
   "cell_type": "markdown",
   "metadata": {},
   "source": [
    "***\n",
    "\n",
    "##### [Jan 6, 2020]\n",
    "#### Given a list of numbers and a number `k`, return whether any two numbers from the list add up to `k`.\n",
    "#### For example, given`[10,15,3,7]` and `k` of `17`, return true since `10 + 7` is `17`.\n",
    "#### Bonus: Can you do this in one pass?"
   ]
  },
  {
   "cell_type": "code",
   "execution_count": 26,
   "metadata": {},
   "outputs": [
    {
     "name": "stdout",
     "output_type": "stream",
     "text": [
      "------------------------------------------------------\n",
      "true\n",
      "  0.016984 seconds (7.95 k allocations: 383.271 KiB)\n",
      "------------------------------------------------------\n",
      "true\n",
      "  0.021645 seconds (26.43 k allocations: 1.393 MiB)\n",
      "------------------------------------------------------\n"
     ]
    }
   ],
   "source": [
    "function addUpToK(numbers::Array{Int64,1}, k::Int64)::Bool\n",
    "    differences = []\n",
    "    for number in numbers\n",
    "        if number in differences\n",
    "           return true \n",
    "        else\n",
    "            push!(differences, k - number)\n",
    "        end\n",
    "    end\n",
    "    return false\n",
    "end\n",
    "\n",
    "function addUpToK2(numbers::Array{Int64,1}, k::Int64)::Bool\n",
    "    for i in 1:length(numbers)-1\n",
    "        for j in i+1:length(numbers)\n",
    "            if (numbers[i] + numbers[j]) == k\n",
    "                return true\n",
    "            end\n",
    "        end\n",
    "    end\n",
    "    return false\n",
    "end\n",
    "\n",
    "println(\"------------------------------------------------------\")\n",
    "@time println(addUpToK([10,15,3,7], 17))\n",
    "println(\"------------------------------------------------------\")\n",
    "@time println(addUpToK2([10,15,3,7], 17))\n",
    "println(\"------------------------------------------------------\")"
   ]
  },
  {
   "cell_type": "markdown",
   "metadata": {},
   "source": [
    "***\n",
    "\n",
    "##### [Jan 6, 2020]\n",
    "#### Given an array of Integers, return a new array such that each element at index `i` of the new array is the product  of all the numbers in the original array except the one at `i`.\n",
    "#### For example, if our input was `[1,2,3,4,5]`, the expected output would be `[120,60,40,30,24]`. If our input was `[3,2,1]`, the expected output would be `[2,3,6].`\n",
    "#### Follow up: what if you can't use division?"
   ]
  },
  {
   "cell_type": "code",
   "execution_count": 29,
   "metadata": {},
   "outputs": [
    {
     "name": "stdout",
     "output_type": "stream",
     "text": [
      "------------------------------------------------------\n",
      "[120, 60, 40, 30, 24]\n",
      "  0.020565 seconds (25.43 k allocations: 1.329 MiB)\n",
      "------------------------------------------------------\n"
     ]
    }
   ],
   "source": [
    "function arrayOfProducts(numbers::Array{Int64,1})::Array{Int64,1}\n",
    "    size = length(numbers)\n",
    "    products = ones(Int64, size)\n",
    "    for i in 1:size\n",
    "        for j in 1:size\n",
    "            if(j != i)\n",
    "                products[i] *= numbers[j]\n",
    "            end\n",
    "        end\n",
    "    end\n",
    "    products\n",
    "end\n",
    "\n",
    "println(\"------------------------------------------------------\")\n",
    "@time println(arrayOfProducts([1,2,3,4,5]))\n",
    "println(\"------------------------------------------------------\")"
   ]
  },
  {
   "cell_type": "markdown",
   "metadata": {},
   "source": [
    "***\n",
    "\n",
    "##### [Jan 6, 2020]\n",
    "#### Given the root to a binary tree, implement `serialize(root)`, which serializes the tree into a string, and `deserialize(s)`, which deserializes the string back into the tree."
   ]
  },
  {
   "cell_type": "code",
   "execution_count": null,
   "metadata": {},
   "outputs": [],
   "source": []
  },
  {
   "cell_type": "markdown",
   "metadata": {},
   "source": [
    "#### cons(a, b) constructs a pair, and car(pair) and cdr(pair) returns the first and last element of that pair. For example, car(cons(3, 4)) returns 3, and cdr(cons(3, 4)) returns 4."
   ]
  },
  {
   "cell_type": "code",
   "execution_count": 33,
   "metadata": {},
   "outputs": [
    {
     "name": "stdout",
     "output_type": "stream",
     "text": [
      "------------------------------------------------------\n",
      "3\n",
      "  0.016324 seconds (1.76 k allocations: 107.823 KiB)\n",
      "------------------------------------------------------\n",
      "4\n",
      "  0.005515 seconds (1.25 k allocations: 75.470 KiB)\n",
      "------------------------------------------------------\n"
     ]
    }
   ],
   "source": [
    "function cons(a, b)\n",
    "    return (a, b)\n",
    "end\n",
    "\n",
    "function car(pair)\n",
    "    return pair[1]\n",
    "end\n",
    "\n",
    "function cdr(pair)\n",
    "    return pair[2]\n",
    "end\n",
    "\n",
    "println(\"------------------------------------------------------\")\n",
    "@time println(car(cons(3,4)))\n",
    "println(\"------------------------------------------------------\")\n",
    "@time println(cdr(cons(3,4)))\n",
    "println(\"------------------------------------------------------\")"
   ]
  },
  {
   "cell_type": "code",
   "execution_count": null,
   "metadata": {},
   "outputs": [],
   "source": []
  },
  {
   "cell_type": "code",
   "execution_count": null,
   "metadata": {},
   "outputs": [],
   "source": []
  },
  {
   "cell_type": "code",
   "execution_count": null,
   "metadata": {},
   "outputs": [],
   "source": []
  }
 ],
 "metadata": {
  "kernelspec": {
   "display_name": "Julia 1.2.0",
   "language": "julia",
   "name": "julia-1.2"
  },
  "language_info": {
   "file_extension": ".jl",
   "mimetype": "application/julia",
   "name": "julia",
   "version": "1.2.0"
  }
 },
 "nbformat": 4,
 "nbformat_minor": 2
}
